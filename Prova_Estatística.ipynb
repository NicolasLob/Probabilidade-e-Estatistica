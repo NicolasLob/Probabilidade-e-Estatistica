{
  "nbformat": 4,
  "nbformat_minor": 0,
  "metadata": {
    "colab": {
      "provenance": [],
      "authorship_tag": "ABX9TyPLRatBnf8rro7JRNsFd3Yi",
      "include_colab_link": true
    },
    "kernelspec": {
      "name": "python3",
      "display_name": "Python 3"
    },
    "language_info": {
      "name": "python"
    }
  },
  "cells": [
    {
      "cell_type": "markdown",
      "metadata": {
        "id": "view-in-github",
        "colab_type": "text"
      },
      "source": [
        "<a href=\"https://colab.research.google.com/github/NicolasLob/Probabilidade-e-Estatistica/blob/main/Prova_Estat%C3%ADstica.ipynb\" target=\"_parent\"><img src=\"https://colab.research.google.com/assets/colab-badge.svg\" alt=\"Open In Colab\"/></a>"
      ]
    },
    {
      "cell_type": "markdown",
      "source": [
        "#P3 Estatística\n"
      ],
      "metadata": {
        "id": "ZWZ5Fex53QIs"
      }
    },
    {
      "cell_type": "markdown",
      "source": [
        "Nícolas Vinícius Lobo Morais"
      ],
      "metadata": {
        "id": "d8gRF2edLnyx"
      }
    },
    {
      "cell_type": "markdown",
      "source": [
        "1- Uma determinada empresa desenvolveu um produto, onde em uma amostra com 4500 produtos testados, 350 apresentaram defeitos no primeiro ano de utilização. Com base nesses dados amostrais, construa um intervalo de confiança de 95% para o percentual de produtos que poderão apresentar defeitos em seu primeiro ano de utilização? A empresa resolveu desenvolver uma nova pesquisa, considerando o resultado desta primeira amostra. A pesquisa desenvolvida deverá ter um nivel de confiança, agora, de 96% e a sua margem de erro não deverá ultrapassar 1%. Qual deve ser o tamanho minimo da amostra?"
      ],
      "metadata": {
        "id": "Bq2R7XOr3VKF"
      }
    },
    {
      "cell_type": "code",
      "execution_count": 28,
      "metadata": {
        "colab": {
          "base_uri": "https://localhost:8080/"
        },
        "id": "cCYAXR8Zoro_",
        "outputId": "64e5c6bc-b84a-40b8-934e-b92132541e68"
      },
      "outputs": [
        {
          "output_type": "stream",
          "name": "stdout",
          "text": [
            "Intervalo de confiança de 95%: (0.0700, 0.0856)\n"
          ]
        }
      ],
      "source": [
        "#Cálculo do Intervalo de Confiança\n",
        "import math\n",
        "from scipy.stats import norm\n",
        "\n",
        "# Dados fornecidos\n",
        "n1 = 4500  # Tamanho da primeira amostra\n",
        "defeitos = 350  # Número de produtos com defeito na primeira amostra\n",
        "\n",
        "# Cálculo da proporção amostral\n",
        "p_hat = defeitos / n1\n",
        "q_hat = 1 - p_hat\n",
        "\n",
        "# Nível de confiança de 95%\n",
        "confidence_level_95 = 0.95\n",
        "alpha_95 = 1 - confidence_level_95\n",
        "z_alpha_2_95 = norm.ppf(1 - alpha_95 / 2)\n",
        "\n",
        "# Cálculo do erro padrão e margem de erro para o intervalo de confiança de 95%\n",
        "E_95 = z_alpha_2_95 * math.sqrt((p_hat * q_hat) / n1)\n",
        "\n",
        "# Intervalo de confiança de 95%\n",
        "lower_bound_95 = p_hat - E_95\n",
        "upper_bound_95 = p_hat + E_95\n",
        "\n",
        "print(f\"Intervalo de confiança de 95%: ({lower_bound_95:.4f}, {upper_bound_95:.4f})\")"
      ]
    },
    {
      "cell_type": "code",
      "source": [
        "# Cálculo do Tamanho da Amostra\n",
        "import scipy.stats as stats\n",
        "\n",
        "# Nível de confiança de 96%\n",
        "confidence_level = 0.96\n",
        "\n",
        "# Z-score para 96% de confiança\n",
        "z_score = stats.norm.ppf(1 - (1 - confidence_level) / 2)\n",
        "\n",
        "# Margem de erro (em proporção, 1% = 0.01)\n",
        "margin_of_error = 0.01\n",
        "\n",
        "# Estimativa inicial da proporção de defeitos (p_hat) da amostra anterior\n",
        "p_hat = 350 / 4500\n",
        "\n",
        "# Cálculo do tamanho da amostra\n",
        "sample_size = (z_score**2 * p_hat * (1 - p_hat)) / (margin_of_error**2)\n",
        "\n",
        "# Arredondando para cima para garantir o tamanho mínimo\n",
        "sample_size = int(sample_size) + 1\n",
        "\n",
        "print(f\"Tamanho mínimo da amostra: {sample_size}\")"
      ],
      "metadata": {
        "colab": {
          "base_uri": "https://localhost:8080/"
        },
        "id": "lZIAfagro42g",
        "outputId": "a6a960ab-8fde-4fee-9d70-6b59ada498b7"
      },
      "execution_count": 12,
      "outputs": [
        {
          "output_type": "stream",
          "name": "stdout",
          "text": [
            "Tamanho mínimo da amostra: 3026\n"
          ]
        }
      ]
    },
    {
      "cell_type": "markdown",
      "source": [
        "2- Uma determinada empresa desenvolveu um produto cujo tempo médio de vida útil encontrado em uma amostra de 180 produtos testados foi de 450 horas e desvio padrão de 20 horas. Com base nesses dados amostrais, construa um intervalo de confiança de 99% para o tempo de vida útil de todos os equipamentos produzidos por esta empresa? A empresa resolveu desenvolver uma nova pesquisa, considerando o desvio padrão da primeira amostra. A pesquisa desenvolvida deverá ter um nivel de confiança, agora, de 95% e a sua margem de erro não deverá ultrapassar 3,0% do verdadeiro valor populacional. Qual deve ser o tamanho mínimo da amostra?"
      ],
      "metadata": {
        "id": "6UhCTPy_3isU"
      }
    },
    {
      "cell_type": "code",
      "source": [
        "import scipy.stats as stats\n",
        "import math\n",
        "\n",
        "# Dados\n",
        "n = 180  # Tamanho da amostra\n",
        "mean = 450  # Média da amostra (em horas)\n",
        "std_dev = 20  # Desvio padrão da amostra (em horas)\n",
        "\n",
        "# Nível de confiança\n",
        "confidence_level = 0.99\n",
        "\n",
        "# Calculando o valor crítico t\n",
        "t_critical = stats.t.ppf(1 - (1 - confidence_level) / 2, df=n-1)\n",
        "\n",
        "# Margem de erro\n",
        "margin_of_error = t_critical * (std_dev / math.sqrt(n))\n",
        "\n",
        "# Intervalo de confiança\n",
        "confidence_interval = (mean - margin_of_error, mean + margin_of_error)\n",
        "\n",
        "print(f\"Intervalo de confiança de 99% para o tempo de vida útil: {confidence_interval}\")"
      ],
      "metadata": {
        "colab": {
          "base_uri": "https://localhost:8080/"
        },
        "id": "WEC_ragZo8En",
        "outputId": "4992340a-9b56-4957-a61d-a6e970dc7bd4"
      },
      "execution_count": 14,
      "outputs": [
        {
          "output_type": "stream",
          "name": "stdout",
          "text": [
            "Intervalo de confiança de 99% para o tempo de vida útil: (446.11882116534844, 453.88117883465156)\n"
          ]
        }
      ]
    },
    {
      "cell_type": "code",
      "source": [
        "# Nível de confiança\n",
        "confidence_level_2 = 0.95\n",
        "\n",
        "# Valor crítico z para 95% de confiança\n",
        "z_critical = stats.norm.ppf(1 - (1 - confidence_level_2) / 2)\n",
        "\n",
        "# Margem de erro como 3% da média estimada\n",
        "error_margin_percentage = 0.03\n",
        "error_margin = error_margin_percentage * mean\n",
        "\n",
        "# Cálculo do tamanho da amostra\n",
        "sample_size_2 = ((z_critical * std_dev) / error_margin) ** 2\n",
        "\n",
        "# Arredondando para cima para garantir o tamanho mínimo\n",
        "sample_size_2 = math.ceil(sample_size_2)\n",
        "\n",
        "print(f\"Tamanho mínimo da amostra: {sample_size_2}\")\n"
      ],
      "metadata": {
        "colab": {
          "base_uri": "https://localhost:8080/"
        },
        "id": "tw5fU4Dbp5Qu",
        "outputId": "381fc5f8-e0f8-4f68-c3d1-be54e28b56a6"
      },
      "execution_count": 15,
      "outputs": [
        {
          "output_type": "stream",
          "name": "stdout",
          "text": [
            "Tamanho mínimo da amostra: 9\n"
          ]
        }
      ]
    },
    {
      "cell_type": "markdown",
      "source": [
        "3- Um processo deveria produzir peças com 0,85 cm de diâmetro. O responsável pela produção desconfia que as peças que estão sendo produzidas são diferentes que o especificado. Uma amostra de 30 peças foi coletada e indicou uma média de 0,86. Sabendo que o desvio padrão é 0,005 cm, teste a hipótese do responsável pela produção usando um nivel de significância 0,05"
      ],
      "metadata": {
        "id": "I0tVxsPU4Har"
      }
    },
    {
      "cell_type": "code",
      "source": [
        "import scipy.stats as stats\n",
        "\n",
        "# Dados\n",
        "n = 30  # Tamanho da amostra\n",
        "sample_mean = 0.86  # Média da amostra\n",
        "population_mean = 0.85  # Média populacional hipotética\n",
        "std_dev = 0.005  # Desvio padrão da amostra\n",
        "\n",
        "# Nível de significância\n",
        "alpha = 0.05\n",
        "\n",
        "# Estatística de teste (t)\n",
        "t_statistic = (sample_mean - population_mean) / (std_dev / (n ** 0.5))\n",
        "\n",
        "# Graus de liberdade\n",
        "df = n - 1\n",
        "\n",
        "# Valores críticos para um teste bicaudal\n",
        "t_critical = stats.t.ppf(1 - alpha / 2, df)\n",
        "\n",
        "# Intervalo crítico\n",
        "lower_bound = -t_critical\n",
        "upper_bound = t_critical\n",
        "\n",
        "print(f\"Estatística de teste t: {t_statistic}\")\n",
        "print(f\"Intervalo crítico: ({lower_bound}, {upper_bound})\")\n",
        "\n",
        "# Verificando se a estatística de teste está fora do intervalo crítico\n",
        "if t_statistic < lower_bound or t_statistic > upper_bound:\n",
        "    print(\"Rejeitamos a hipótese nula. As peças produzidas têm um diâmetro diferente de 0,85 cm.\")\n",
        "else:\n",
        "    print(\"Não rejeitamos a hipótese nula. Não há evidência suficiente para afirmar que as peças produzidas têm um diâmetro diferente de 0,85 cm.\")"
      ],
      "metadata": {
        "colab": {
          "base_uri": "https://localhost:8080/"
        },
        "id": "WYIHY4wOp9kX",
        "outputId": "54a1fae9-2dfb-47d0-cc1a-a447a1dd632c"
      },
      "execution_count": 16,
      "outputs": [
        {
          "output_type": "stream",
          "name": "stdout",
          "text": [
            "Estatística de teste t: 10.954451150103331\n",
            "Intervalo crítico: (-2.045229642132703, 2.045229642132703)\n",
            "Rejeitamos a hipótese nula. As peças produzidas têm um diâmetro diferente de 0,85 cm.\n"
          ]
        }
      ]
    },
    {
      "cell_type": "markdown",
      "source": [
        "4- Uma pesquisa efetuada entre indice de umidade média do ar e vida útil de um determinado equipamento apresentou os seguintes resultados.\n",
        "\n",
        "Dados do primeiro grupo\n",
        "\n",
        "x1 = [59, 57, 47, 73, 79, 45, 40, 44, 40, 40, 33, 46, 48, 57, 68, 46, 35, 45]\n",
        "\n",
        "y1 = [10, 10, 12, 8, 6, 15, 17, 15, 16, 15, 18, 15, 14, 13, 10, 12, 18, 15]\n",
        "\n",
        "\n",
        "Dados do segundo grupo\n",
        "\n",
        "x2 = [58, 67, 66, 75, 79, 45, 50, 74, 55, 67, 54, 73, 37, 80, 75, 76, 66, 60]\n",
        "\n",
        "y2 = [10, 11, 13, 10, 9, 15, 18, 7, 16, 12, 12, 9, 19, 6, 10, 8, 12, 14]\n",
        "\n",
        "\n",
        "a) Quais os coeficientes de correlação linear (r) de cada um dos grupos?\n",
        "\n",
        "b) Há correlação linear entre as variáveis para cada um dos grupos?\n",
        "\n",
        "c) Qual a melhor correlação?\n",
        "\n",
        "d) Para o grupo com a melhor correlação qual a predição de tempo de vida útil para uma umidade relativa de 20%?"
      ],
      "metadata": {
        "id": "9Oq4MnF1LNyR"
      }
    },
    {
      "cell_type": "code",
      "source": [
        "import numpy as np\n",
        "import math as mt\n",
        "from scipy.stats import linregress\n",
        "\n",
        "# Dados do primeiro grupo\n",
        "x1 = [59, 57, 47, 73, 79, 45, 40, 44, 40, 40, 33, 46, 48, 57, 68, 46, 35, 45]\n",
        "y1 = [10, 10, 12, 8, 6, 15, 17, 15, 16, 15, 18, 15, 14, 13, 10, 12, 18, 15]\n",
        "\n",
        "# Dados do segundo grupo\n",
        "x2 = [58, 67, 66, 75, 79, 45, 50, 74, 55, 67, 54, 73, 37, 80, 75, 76, 66, 60]\n",
        "y2 = [10, 11, 13, 10, 9, 15, 18, 7, 16, 12, 12, 9, 19, 6, 10, 8, 12, 14]\n",
        "\n",
        "# a) Cálculo dos coeficientes de correlação linear (r)\n",
        "r1 = np.corrcoef(x1, y1)[0, 1]\n",
        "r2 = np.corrcoef(x2, y2)[0, 1]\n",
        "\n",
        "print(f\"Coeficiente de correlação do grupo 1: {r1}\")\n",
        "print(f\"Coeficiente de correlação do grupo 2: {r2}\")\n",
        "\n",
        "# b) Verificação da correlação linear\n",
        "\n",
        "'''\n",
        " Sim, há correlação linear entre as variáveis para cada um dos grupos.\n",
        " Para o primeiro grupo, o coeficiente de correlação de Pearson é -0.94, indicando uma forte correlação linear negativa.\n",
        " Isso significa que, em geral, quanto maior a umidade média relativa do ar, menor a vida útil do equipamento.\n",
        " Para o segundo grupo, o coeficiente de correlação de Pearson é -0.88, indicando também uma forte correlação linear negativa, com a mesma interpretação do primeiro grupo.\n",
        "'''\n",
        "\n",
        "# c) Determinação da melhor correlação\n",
        "melhor_grupo = \"Grupo 1\" if abs(r1) > abs(r2) else \"Grupo 2\"\n",
        "print(f\"O grupo com a melhor correlação é: {melhor_grupo}\")\n",
        "\n",
        "# d) Predição de tempo de vida útil para uma umidade relativa de 20% para o grupo com a melhor correlação\n",
        "if melhor_grupo == \"Grupo 1\":\n",
        "    slope, intercept, r_value, p_value, std_err = linregress(x1, y1)\n",
        "else:\n",
        "    slope, intercept, r_value, p_value, std_err = linregress(x2, y2)\n",
        "\n",
        "# Predição para umidade relativa de 20%\n",
        "umidade = 20\n",
        "predicao = intercept + slope * umidade\n",
        "predicao_arredondada = math.ceil(predicao)\n",
        "print(f\"Predição de tempo de vida útil para uma umidade relativa de {umidade}%: {predicao_arredondada:.2f} anos\")\n"
      ],
      "metadata": {
        "colab": {
          "base_uri": "https://localhost:8080/"
        },
        "id": "uZ1dAhOMHs75",
        "outputId": "95c0e71a-e362-4c20-881d-7d42771a05bf"
      },
      "execution_count": 40,
      "outputs": [
        {
          "output_type": "stream",
          "name": "stdout",
          "text": [
            "Coeficiente de correlação do grupo 1: -0.9455231487712701\n",
            "Coeficiente de correlação do grupo 2: -0.8862111099662613\n",
            "O grupo com a melhor correlação é: Grupo 1\n",
            "Predição de tempo de vida útil para uma umidade relativa de 20%: 21.00 anos\n"
          ]
        }
      ]
    }
  ]
}